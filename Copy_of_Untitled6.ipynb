{
  "cells": [
    {
      "cell_type": "markdown",
      "metadata": {
        "id": "view-in-github",
        "colab_type": "text"
      },
      "source": [
        "<a href=\"https://colab.research.google.com/github/TeamArdra/Member_name/blob/main/Copy_of_Untitled6.ipynb\" target=\"_parent\"><img src=\"https://colab.research.google.com/assets/colab-badge.svg\" alt=\"Open In Colab\"/></a>"
      ]
    },
    {
      "cell_type": "code",
      "execution_count": 1,
      "metadata": {
        "colab": {
          "base_uri": "https://localhost:8080/"
        },
        "id": "wCGofnEDFqiv",
        "outputId": "6f28ac6c-89f7-408a-f73c-40ed878d3d26"
      },
      "outputs": [
        {
          "output_type": "stream",
          "name": "stdout",
          "text": [
            "Requirement already satisfied: roboflow in /usr/local/lib/python3.10/dist-packages (1.1.30)\n",
            "Requirement already satisfied: certifi==2023.7.22 in /usr/local/lib/python3.10/dist-packages (from roboflow) (2023.7.22)\n",
            "Requirement already satisfied: chardet==4.0.0 in /usr/local/lib/python3.10/dist-packages (from roboflow) (4.0.0)\n",
            "Requirement already satisfied: cycler==0.10.0 in /usr/local/lib/python3.10/dist-packages (from roboflow) (0.10.0)\n",
            "Requirement already satisfied: idna==2.10 in /usr/local/lib/python3.10/dist-packages (from roboflow) (2.10)\n",
            "Requirement already satisfied: kiwisolver>=1.3.1 in /usr/local/lib/python3.10/dist-packages (from roboflow) (1.4.5)\n",
            "Requirement already satisfied: matplotlib in /usr/local/lib/python3.10/dist-packages (from roboflow) (3.7.1)\n",
            "Requirement already satisfied: numpy>=1.18.5 in /usr/local/lib/python3.10/dist-packages (from roboflow) (1.25.2)\n",
            "Requirement already satisfied: opencv-python-headless==4.8.0.74 in /usr/local/lib/python3.10/dist-packages (from roboflow) (4.8.0.74)\n",
            "Requirement already satisfied: Pillow>=7.1.2 in /usr/local/lib/python3.10/dist-packages (from roboflow) (9.4.0)\n",
            "Requirement already satisfied: python-dateutil in /usr/local/lib/python3.10/dist-packages (from roboflow) (2.8.2)\n",
            "Requirement already satisfied: python-dotenv in /usr/local/lib/python3.10/dist-packages (from roboflow) (1.0.1)\n",
            "Requirement already satisfied: requests in /usr/local/lib/python3.10/dist-packages (from roboflow) (2.31.0)\n",
            "Requirement already satisfied: six in /usr/local/lib/python3.10/dist-packages (from roboflow) (1.16.0)\n",
            "Requirement already satisfied: urllib3>=1.26.6 in /usr/local/lib/python3.10/dist-packages (from roboflow) (2.0.7)\n",
            "Requirement already satisfied: tqdm>=4.41.0 in /usr/local/lib/python3.10/dist-packages (from roboflow) (4.66.4)\n",
            "Requirement already satisfied: PyYAML>=5.3.1 in /usr/local/lib/python3.10/dist-packages (from roboflow) (6.0.1)\n",
            "Requirement already satisfied: requests-toolbelt in /usr/local/lib/python3.10/dist-packages (from roboflow) (1.0.0)\n",
            "Requirement already satisfied: python-magic in /usr/local/lib/python3.10/dist-packages (from roboflow) (0.4.27)\n",
            "Requirement already satisfied: contourpy>=1.0.1 in /usr/local/lib/python3.10/dist-packages (from matplotlib->roboflow) (1.2.1)\n",
            "Requirement already satisfied: fonttools>=4.22.0 in /usr/local/lib/python3.10/dist-packages (from matplotlib->roboflow) (4.51.0)\n",
            "Requirement already satisfied: packaging>=20.0 in /usr/local/lib/python3.10/dist-packages (from matplotlib->roboflow) (24.0)\n",
            "Requirement already satisfied: pyparsing>=2.3.1 in /usr/local/lib/python3.10/dist-packages (from matplotlib->roboflow) (3.1.2)\n",
            "Requirement already satisfied: charset-normalizer<4,>=2 in /usr/local/lib/python3.10/dist-packages (from requests->roboflow) (3.3.2)\n"
          ]
        }
      ],
      "source": [
        "!pip install roboflow"
      ]
    },
    {
      "cell_type": "code",
      "execution_count": 3,
      "metadata": {
        "id": "dw4RsbBQFKJJ",
        "colab": {
          "base_uri": "https://localhost:8080/",
          "height": 391
        },
        "outputId": "1dde00ac-334f-449f-8a19-e11cf05e2fc5"
      },
      "outputs": [
        {
          "output_type": "stream",
          "name": "stdout",
          "text": [
            "loading Roboflow workspace...\n",
            "loading Roboflow project...\n"
          ]
        },
        {
          "output_type": "error",
          "ename": "TypeError",
          "evalue": "'NoneType' object cannot be interpreted as an integer",
          "traceback": [
            "\u001b[0;31m---------------------------------------------------------------------------\u001b[0m",
            "\u001b[0;31mTypeError\u001b[0m                                 Traceback (most recent call last)",
            "\u001b[0;32m<ipython-input-3-d861b0a26603>\u001b[0m in \u001b[0;36m<cell line: 3>\u001b[0;34m()\u001b[0m\n\u001b[1;32m      1\u001b[0m \u001b[0;32mfrom\u001b[0m \u001b[0mroboflow\u001b[0m \u001b[0;32mimport\u001b[0m \u001b[0mRoboflow\u001b[0m\u001b[0;34m\u001b[0m\u001b[0;34m\u001b[0m\u001b[0m\n\u001b[1;32m      2\u001b[0m \u001b[0mrf\u001b[0m \u001b[0;34m=\u001b[0m \u001b[0mRoboflow\u001b[0m\u001b[0;34m(\u001b[0m\u001b[0mapi_key\u001b[0m\u001b[0;34m=\u001b[0m\u001b[0;34m\"MiIoLqxDVN56toRpsz8k\"\u001b[0m\u001b[0;34m)\u001b[0m\u001b[0;34m\u001b[0m\u001b[0;34m\u001b[0m\u001b[0m\n\u001b[0;32m----> 3\u001b[0;31m \u001b[0mproject\u001b[0m \u001b[0;34m=\u001b[0m \u001b[0mrf\u001b[0m\u001b[0;34m.\u001b[0m\u001b[0mworkspace\u001b[0m\u001b[0;34m(\u001b[0m\u001b[0;34m\"nice-9c4n4\"\u001b[0m\u001b[0;34m)\u001b[0m\u001b[0;34m.\u001b[0m\u001b[0mproject\u001b[0m\u001b[0;34m(\u001b[0m\u001b[0;34m\"object-detection-isdc\"\u001b[0m\u001b[0;34m)\u001b[0m\u001b[0;34m\u001b[0m\u001b[0;34m\u001b[0m\u001b[0m\n\u001b[0m\u001b[1;32m      4\u001b[0m \u001b[0mmodel\u001b[0m \u001b[0;34m=\u001b[0m \u001b[0mproject\u001b[0m\u001b[0;34m.\u001b[0m\u001b[0mversion\u001b[0m\u001b[0;34m(\u001b[0m\u001b[0;36m5\u001b[0m\u001b[0;34m)\u001b[0m\u001b[0;34m.\u001b[0m\u001b[0mmodel\u001b[0m\u001b[0;34m\u001b[0m\u001b[0;34m\u001b[0m\u001b[0m\n\u001b[1;32m      5\u001b[0m \u001b[0;34m\u001b[0m\u001b[0m\n",
            "\u001b[0;32m/usr/local/lib/python3.10/dist-packages/roboflow/core/workspace.py\u001b[0m in \u001b[0;36mproject\u001b[0;34m(self, project_id)\u001b[0m\n\u001b[1;32m     87\u001b[0m         \u001b[0mdataset_info\u001b[0m \u001b[0;34m=\u001b[0m \u001b[0mdataset_info\u001b[0m\u001b[0;34m[\u001b[0m\u001b[0;34m\"project\"\u001b[0m\u001b[0;34m]\u001b[0m\u001b[0;34m\u001b[0m\u001b[0;34m\u001b[0m\u001b[0m\n\u001b[1;32m     88\u001b[0m \u001b[0;34m\u001b[0m\u001b[0m\n\u001b[0;32m---> 89\u001b[0;31m         \u001b[0;32mreturn\u001b[0m \u001b[0mProject\u001b[0m\u001b[0;34m(\u001b[0m\u001b[0mself\u001b[0m\u001b[0;34m.\u001b[0m\u001b[0m__api_key\u001b[0m\u001b[0;34m,\u001b[0m \u001b[0mdataset_info\u001b[0m\u001b[0;34m,\u001b[0m \u001b[0mself\u001b[0m\u001b[0;34m.\u001b[0m\u001b[0mmodel_format\u001b[0m\u001b[0;34m)\u001b[0m\u001b[0;34m\u001b[0m\u001b[0;34m\u001b[0m\u001b[0m\n\u001b[0m\u001b[1;32m     90\u001b[0m \u001b[0;34m\u001b[0m\u001b[0m\n\u001b[1;32m     91\u001b[0m     \u001b[0;32mdef\u001b[0m \u001b[0mcreate_project\u001b[0m\u001b[0;34m(\u001b[0m\u001b[0mself\u001b[0m\u001b[0;34m,\u001b[0m \u001b[0mproject_name\u001b[0m\u001b[0;34m,\u001b[0m \u001b[0mproject_type\u001b[0m\u001b[0;34m,\u001b[0m \u001b[0mproject_license\u001b[0m\u001b[0;34m,\u001b[0m \u001b[0mannotation\u001b[0m\u001b[0;34m)\u001b[0m\u001b[0;34m:\u001b[0m\u001b[0;34m\u001b[0m\u001b[0;34m\u001b[0m\u001b[0m\n",
            "\u001b[0;32m/usr/local/lib/python3.10/dist-packages/roboflow/core/project.py\u001b[0m in \u001b[0;36m__init__\u001b[0;34m(self, api_key, a_project, model_format)\u001b[0m\n\u001b[1;32m     63\u001b[0m             \u001b[0mself\u001b[0m\u001b[0;34m.\u001b[0m\u001b[0mtype\u001b[0m \u001b[0;34m=\u001b[0m \u001b[0ma_project\u001b[0m\u001b[0;34m[\u001b[0m\u001b[0;34m\"type\"\u001b[0m\u001b[0;34m]\u001b[0m\u001b[0;34m\u001b[0m\u001b[0;34m\u001b[0m\u001b[0m\n\u001b[1;32m     64\u001b[0m             \u001b[0mself\u001b[0m\u001b[0;34m.\u001b[0m\u001b[0munannotated\u001b[0m \u001b[0;34m=\u001b[0m \u001b[0ma_project\u001b[0m\u001b[0;34m[\u001b[0m\u001b[0;34m\"unannotated\"\u001b[0m\u001b[0;34m]\u001b[0m\u001b[0;34m\u001b[0m\u001b[0;34m\u001b[0m\u001b[0m\n\u001b[0;32m---> 65\u001b[0;31m             \u001b[0mself\u001b[0m\u001b[0;34m.\u001b[0m\u001b[0mupdated\u001b[0m \u001b[0;34m=\u001b[0m \u001b[0mdatetime\u001b[0m\u001b[0;34m.\u001b[0m\u001b[0mdatetime\u001b[0m\u001b[0;34m.\u001b[0m\u001b[0mfromtimestamp\u001b[0m\u001b[0;34m(\u001b[0m\u001b[0ma_project\u001b[0m\u001b[0;34m[\u001b[0m\u001b[0;34m\"updated\"\u001b[0m\u001b[0;34m]\u001b[0m\u001b[0;34m)\u001b[0m\u001b[0;34m\u001b[0m\u001b[0;34m\u001b[0m\u001b[0m\n\u001b[0m\u001b[1;32m     66\u001b[0m             \u001b[0mself\u001b[0m\u001b[0;34m.\u001b[0m\u001b[0mmodel_format\u001b[0m \u001b[0;34m=\u001b[0m \u001b[0mmodel_format\u001b[0m\u001b[0;34m\u001b[0m\u001b[0;34m\u001b[0m\u001b[0m\n\u001b[1;32m     67\u001b[0m \u001b[0;34m\u001b[0m\u001b[0m\n",
            "\u001b[0;31mTypeError\u001b[0m: 'NoneType' object cannot be interpreted as an integer"
          ]
        }
      ],
      "source": [
        "from roboflow import Roboflow\n",
        "rf = Roboflow(api_key=\"MiIoLqxDVN56toRpsz8k\")\n",
        "project = rf.workspace(\"nice-9c4n4\").project(\"object-detection-isdc\")\n",
        "model = project.version(5).model\n",
        "\n",
        "# infer on a local image\n",
        "# print(model.predict(\"/content/drone_test.jpg\", confidence=30, overlap=30).json())\n",
        "predictions_data= model.predict(\"/content/drone_test.jpg\", confidence=30, overlap=30).json()\n",
        "print(predictions_data)\n",
        "\n",
        "\n",
        "model.predict(\"/content/drone_test.jpg\", confidence=20, overlap=30).save(\"prediction.jpg\")\n",
        "\n",
        "# infer on an image hosted elsewhere\n",
        "# print(model.predict(\"URL_OF_YOUR_IMAGE\", hosted=True, confidence=40, overlap=30).json())"
      ]
    },
    {
      "cell_type": "code",
      "source": [
        "predictions_data={'predictions': [{'x': 1079.0, 'y': 1342.5, 'width': 760.0, 'height': 509.0, 'confidence': 0.8208142518997192, 'class': 'Obstacles', 'class_id': 1, 'image_path': '/content/drone_test.jpg', 'prediction_type': 'ObjectDetectionModel'}, {'x': 571.5, 'y': 387.0, 'width': 761.0, 'height': 748.0, 'confidence': 0.7818746566772461, 'class': 'Obstacles', 'class_id': 1, 'image_path': '/content/drone_test.jpg', 'prediction_type': 'ObjectDetectionModel'}, {'x': 449.5, 'y': 960.0, 'width': 131.0, 'height': 136.0, 'confidence': 0.7469130754470825, 'class': 'Cones', 'class_id': 0, 'image_path': '/content/drone_test.jpg', 'prediction_type': 'ObjectDetectionModel'}, {'x': 1404.0, 'y': 855.5, 'width': 354.0, 'height': 305.0, 'confidence': 0.7452728748321533, 'class': 'Obstacles', 'class_id': 1, 'image_path': '/content/drone_test.jpg', 'prediction_type': 'ObjectDetectionModel'}], 'image': {'width': '1600', 'height': '1600'}}"
      ],
      "metadata": {
        "id": "QL-0pmo_ymJA"
      },
      "execution_count": 5,
      "outputs": []
    },
    {
      "cell_type": "code",
      "execution_count": 4,
      "metadata": {
        "id": "ysPQUX_mJlad"
      },
      "outputs": [],
      "source": [
        "import matplotlib.pyplot as plt\n",
        "import matplotlib.patches as patches\n",
        "import numpy as np\n",
        "import json\n",
        "import os\n",
        "import cv2\n",
        "from queue import PriorityQueue"
      ]
    },
    {
      "cell_type": "code",
      "execution_count": 6,
      "metadata": {
        "id": "6s0ayMkOJ08e"
      },
      "outputs": [],
      "source": [
        "def heuristic(a, b):\n",
        "    return np.linalg.norm(np.array(a) - np.array(b))"
      ]
    },
    {
      "cell_type": "code",
      "execution_count": 7,
      "metadata": {
        "id": "2nBk0ej0J3UB"
      },
      "outputs": [],
      "source": [
        "def astar_direct(grid, start, goal):\n",
        "    open_set = PriorityQueue()\n",
        "    open_set.put((0, start))\n",
        "\n",
        "    came_from = {}\n",
        "    cost_so_far = {start: 0}\n",
        "\n",
        "    while not open_set.empty():\n",
        "        current = open_set.get()[1]\n",
        "\n",
        "        if current == goal:\n",
        "            break\n",
        "\n",
        "        for i in range(-1, 2):\n",
        "            for j in range(-1, 2):\n",
        "                neighbor = (current[0] + i, current[1] + j)\n",
        "                if (\n",
        "                    0 <= neighbor[0] < grid.shape[0]\n",
        "                    and 0 <= neighbor[1] < grid.shape[1]\n",
        "                    and grid[neighbor] == 0\n",
        "                ):\n",
        "                    new_cost = cost_so_far[current] + (1 if i == 0 or j == 0 else np.sqrt(2))\n",
        "                    if neighbor not in cost_so_far or new_cost < cost_so_far[neighbor]:\n",
        "                        cost_so_far[neighbor] = new_cost\n",
        "                        priority = new_cost + heuristic(neighbor, goal)\n",
        "                        open_set.put((priority, neighbor))\n",
        "                        came_from[neighbor] = current\n",
        "\n",
        "    path = []\n",
        "    current = goal\n",
        "    while current != start:\n",
        "        path.append(current)\n",
        "        current = came_from[current]\n",
        "    path.append(start)\n",
        "    path.reverse()\n",
        "\n",
        "    return path"
      ]
    },
    {
      "cell_type": "code",
      "execution_count": 8,
      "metadata": {
        "id": "FxODbBtAJ-3F"
      },
      "outputs": [],
      "source": [
        "def astar_direct_path(grid, start, waypoints):\n",
        "    path = []\n",
        "    current_start = start\n",
        "\n",
        "    for waypoint in waypoints:\n",
        "        segment_path = astar_direct(grid, current_start, waypoint)\n",
        "        path.extend(segment_path[:-1])  # Avoid duplicate points\n",
        "        current_start = waypoint\n",
        "        print(type(waypoint))\n",
        "\n",
        "    final_path = astar_direct(grid, current_start, waypoints[-1])\n",
        "    path.extend(final_path)  # Include all points of the final path\n",
        "\n",
        "    return path"
      ]
    },
    {
      "cell_type": "code",
      "execution_count": 9,
      "metadata": {
        "id": "tIGiVmArKNVI",
        "colab": {
          "base_uri": "https://localhost:8080/"
        },
        "outputId": "231b64dd-2ad9-4d37-9651-4a9ac017d1d1"
      },
      "outputs": [
        {
          "output_type": "stream",
          "name": "stdout",
          "text": [
            "Obstacle List:\n",
            "[{'x': 1079.0, 'y': 1342.5, 'width': 760.0, 'height': 509.0, 'confidence': 0.8208142518997192, 'class': 'Obstacles', 'class_id': 1, 'image_path': '/content/drone_test.jpg', 'prediction_type': 'ObjectDetectionModel'}, {'x': 571.5, 'y': 387.0, 'width': 761.0, 'height': 748.0, 'confidence': 0.7818746566772461, 'class': 'Obstacles', 'class_id': 1, 'image_path': '/content/drone_test.jpg', 'prediction_type': 'ObjectDetectionModel'}, {'x': 1404.0, 'y': 855.5, 'width': 354.0, 'height': 305.0, 'confidence': 0.7452728748321533, 'class': 'Obstacles', 'class_id': 1, 'image_path': '/content/drone_test.jpg', 'prediction_type': 'ObjectDetectionModel'}]\n",
            "\n",
            "Waypoint List:\n",
            "[{'x': 449.5, 'y': 960.0, 'width': 131.0, 'height': 136.0, 'confidence': 0.7469130754470825, 'class': 'Cones', 'class_id': 0, 'image_path': '/content/drone_test.jpg', 'prediction_type': 'ObjectDetectionModel'}]\n"
          ]
        }
      ],
      "source": [
        "obstacle_list = []\n",
        "waypoint_list = []\n",
        "\n",
        "# Iterate through predictions and append to the corresponding list\n",
        "for prediction in predictions_data['predictions']:\n",
        "    if prediction['class'].lower() == 'obstacles':\n",
        "        obstacle_list.append(prediction)\n",
        "    elif prediction['class'].lower() == 'cones':\n",
        "        waypoint_list.append(prediction)\n",
        "\n",
        "# Display the results\n",
        "print(\"Obstacle List:\")\n",
        "print(obstacle_list)\n",
        "\n",
        "print(\"\\nWaypoint List:\")\n",
        "print(waypoint_list)"
      ]
    },
    {
      "cell_type": "code",
      "execution_count": 10,
      "metadata": {
        "id": "IMWoGiQiMafW"
      },
      "outputs": [],
      "source": [
        "example_image_path= \"/content/drone_test.jpg\""
      ]
    },
    {
      "cell_type": "code",
      "execution_count": 11,
      "metadata": {
        "id": "KwZGjJfcLqd5",
        "colab": {
          "base_uri": "https://localhost:8080/",
          "height": 576
        },
        "outputId": "a2fc5879-34ae-4e68-834d-f5a95f63f304"
      },
      "outputs": [
        {
          "output_type": "stream",
          "name": "stdout",
          "text": [
            "(699.0, 3.0) (1459.0, 3.0) (1459.0, 512.0) (699.0, 512.0)\n",
            "(191.0, 839.0) (952.0, 839.0) (952.0, 1587.0) (191.0, 1587.0)\n",
            "(1227.0, 592.0) (1581.0, 592.0) (1581.0, 897.0) (1227.0, 897.0)\n",
            "[(449.5, 960.0)]\n",
            "<class 'list'>\n",
            "<class 'tuple'>\n"
          ]
        },
        {
          "output_type": "display_data",
          "data": {
            "text/plain": [
              "<Figure size 640x480 with 1 Axes>"
            ],
            "image/png": "[encoded data removed]"
          },
          "metadata": {}
        }
      ],
      "source": [
        "example_image = cv2.imread(example_image_path)\n",
        "image_height, image_width, _ = example_image.shape\n",
        "\n",
        "# Choose grid size based on image dimensions\n",
        "grid_size = (image_height, image_width)\n",
        "\n",
        "# Create an empty image (grid)\n",
        "image = np.zeros(grid_size)\n",
        "\n",
        "# Plot obstacles on the grid\n",
        "fig, ax = plt.subplots()\n",
        "ax.imshow(image, cmap='gray')\n",
        "\n",
        "\n",
        "for prediction in obstacle_list:\n",
        "  x, y, width, height = (\n",
        "    prediction[\"x\"],\n",
        "    image_height - prediction[\"y\"],  # Invert y-coordinate\n",
        "    prediction[\"width\"],\n",
        "    prediction[\"height\"],\n",
        "    )\n",
        "\n",
        "            # Calculate half-width and half-height\n",
        "  half_width = width / 2\n",
        "  half_height = height / 2\n",
        "\n",
        "            # Calculate vertices of the bounding box\n",
        "  x1, y1 = x - half_width, y - half_height\n",
        "  x2, y2 = x + half_width, y - half_height\n",
        "  x3, y3 = x + half_width, y + half_height\n",
        "  x4, y4 = x - half_width, y + half_height\n",
        "\n",
        "  print((x1,y1),(x2,y2),(x3,y3),(x4,y4))\n",
        "\n",
        "            # Draw a rectangle for each detected obstacle\n",
        "  rect = patches.Polygon(\n",
        "        [(x1, y1), (x2, y2), (x3, y3), (x4, y4)],\n",
        "        linewidth=0.5, edgecolor=\"red\", facecolor=\"white\"\n",
        "        )\n",
        "  ax.add_patch(rect)\n",
        "\n",
        "        # Access the imported data for waypoints\n",
        "\n",
        "\n",
        "        # Plot waypoints on the same image\n",
        "waypoints_x = [int(float(waypoint[\"x\"])) for waypoint in waypoint_list]\n",
        "waypoints_y = [(image_height-float(waypoint[\"y\"])) for waypoint in waypoint_list]  # Do not invert y-coordinate\n",
        "waypts=[((((waypoint[\"x\"])), ((waypoint[\"y\"])))) for waypoint in waypoint_list]\n",
        "print(waypts)\n",
        "print(type(waypts))\n",
        "for i in waypts:\n",
        "  print(type(i))\n",
        "#waypoints_x.append(1000)\n",
        "#waypoints_y.append(1500)\n",
        "\n",
        "ax.plot(waypoints_x, waypoints_y, marker='o', markersize=5, color='blue', linestyle='None')\n",
        "\n",
        "        # Update plot limits based on the chosen grid size\n",
        "ax.set_xlim(0, image_width)\n",
        "ax.set_ylim(0, image_height)\n",
        "\n",
        "plt.title(\"Obstacle Detection Results with Waypoints\")\n",
        "plt.xlabel(\"X-axis\")\n",
        "plt.ylabel(\"Y-axis\")\n",
        "plt.show()"
      ]
    },
    {
      "cell_type": "code",
      "execution_count": 12,
      "metadata": {
        "id": "Eid7oW1EN5pW"
      },
      "outputs": [],
      "source": [
        "import numpy as np\n",
        "\n",
        "def create_occupancy_grid_from_predictions(grid_size, predictions):\n",
        "    grid = np.zeros(grid_size)\n",
        "\n",
        "    obstacle_centers = []\n",
        "    for obstacle in predictions:\n",
        "      ( x, y, width, height) = (obstacle['x'], obstacle['y'], obstacle['width'], obstacle['height'])\n",
        "\n",
        "      # Calculate obstacle center\n",
        "      half_width = width / 2\n",
        "      half_height = height / 2\n",
        "\n",
        "            # Calculate vertices of the bounding box\n",
        "      x1, y1 = x - half_width, y - half_height\n",
        "      x2, y2 = x + half_width, y - half_height\n",
        "      x3, y3 = x + half_width, y + half_height\n",
        "      x4, y4 = x - half_width, y + half_height\n",
        "\n",
        "      print(x1,x2,y1,y2)\n",
        "        # Mark cells within the obstacle boundaries as occupied\n",
        "      for i in range(int(max(0,x1)), int(min(grid_size[0],x2))):\n",
        "          for j in range(int(max(0,y1)),int( min(grid_size[1],y3))):\n",
        "            grid[i, j] = 1  # Mark cell as occupied\n",
        "\n",
        "      print(grid)\n",
        "\n",
        "      # rect = patches.Polygon(\n",
        "      #   [(x1, y1), (x2, y2), (x3, y3), (x4, y4)],\n",
        "      #   linewidth=0.5, edgecolor=\"red\", facecolor=\"white\"\n",
        "      #   )\n",
        "      # ax.add_patch(rect)\n",
        "\n",
        "    return grid, obstacle_centers"
      ]
    },
    {
      "cell_type": "code",
      "execution_count": 13,
      "metadata": {
        "id": "XMs0FGX5OK34"
      },
      "outputs": [],
      "source": [
        "def plot_occupancy_grid_with_path_and_waypoints(occupancy_grid, start, destination, path, waypoints):\n",
        "    plt.imshow(occupancy_grid, cmap='gray', origin='lower')\n",
        "    plt.scatter(start[1], start[0], color='green', marker='o', label='Start')\n",
        "    plt.scatter(destination[1], destination[0], color='red', marker='o', label='Destination')\n",
        "    plt.scatter([p[1] for p in waypoints], [p[0] for p in waypoints], color='blue', marker='*', label='Waypoints')\n",
        "    for i in range(len(path) - 1):\n",
        "      plt.arrow(path[i][1], path[i][0], path[i + 1][1] - path[i][1], path[i + 1][0] - path[i][0],\n",
        "              head_width=0.2, head_length=0.2, fc='orange', ec='orange')\n",
        "    plt.legend()\n",
        "    plt.title('Occupancy Grid Map with Path and Waypoints (Diagonal Movement Allowed)')\n",
        "    plt.xlabel('Y-axis')\n",
        "    plt.ylabel('X-axis')\n",
        "    plt.show()"
      ]
    },
    {
      "cell_type": "code",
      "execution_count": 14,
      "metadata": {
        "id": "8aqCNEl_OQXe",
        "colab": {
          "base_uri": "https://localhost:8080/"
        },
        "outputId": "e39cf210-18e6-459f-fb3c-155c1e29be35"
      },
      "outputs": [
        {
          "output_type": "stream",
          "name": "stdout",
          "text": [
            "[(449.5, 960.0)]\n"
          ]
        }
      ],
      "source": [
        "print(waypts)\n"
      ]
    },
    {
      "cell_type": "code",
      "execution_count": 15,
      "metadata": {
        "colab": {
          "base_uri": "https://localhost:8080/",
          "height": 958
        },
        "id": "pYZl2EyHOYSJ",
        "outputId": "ec13cc36-2764-4076-8eb2-a076860d4924"
      },
      "outputs": [
        {
          "output_type": "stream",
          "name": "stdout",
          "text": [
            "699.0 1459.0 1088.0 1088.0\n",
            "[[0. 0. 0. ... 0. 0. 0.]\n",
            " [0. 0. 0. ... 0. 0. 0.]\n",
            " [0. 0. 0. ... 0. 0. 0.]\n",
            " ...\n",
            " [0. 0. 0. ... 0. 0. 0.]\n",
            " [0. 0. 0. ... 0. 0. 0.]\n",
            " [0. 0. 0. ... 0. 0. 0.]]\n",
            "191.0 952.0 13.0 13.0\n",
            "[[0. 0. 0. ... 0. 0. 0.]\n",
            " [0. 0. 0. ... 0. 0. 0.]\n",
            " [0. 0. 0. ... 0. 0. 0.]\n",
            " ...\n",
            " [0. 0. 0. ... 0. 0. 0.]\n",
            " [0. 0. 0. ... 0. 0. 0.]\n",
            " [0. 0. 0. ... 0. 0. 0.]]\n",
            "1227.0 1581.0 703.0 703.0\n",
            "[[0. 0. 0. ... 0. 0. 0.]\n",
            " [0. 0. 0. ... 0. 0. 0.]\n",
            " [0. 0. 0. ... 0. 0. 0.]\n",
            " ...\n",
            " [0. 0. 0. ... 0. 0. 0.]\n",
            " [0. 0. 0. ... 0. 0. 0.]\n",
            " [0. 0. 0. ... 0. 0. 0.]]\n",
            "[(449.5, 960.0), (600, 1400)]\n",
            "[(449, 960), (600, 1400)]\n",
            "<class 'tuple'>\n",
            "<class 'tuple'>\n"
          ]
        },
        {
          "output_type": "display_data",
          "data": {
            "text/plain": [
              "<Figure size 640x480 with 1 Axes>"
            ],
            "image/png": "[encoded data removed]"
          },
          "metadata": {}
        }
      ],
      "source": [
        "start = (15,200)\n",
        "destination = (600,1400)\n",
        "\n",
        "# Initialize waypts as an empty list\n",
        "occupancy_grid, obstacle_centers = create_occupancy_grid_from_predictions(grid_size, obstacle_list)\n",
        "waypts.append(destination)\n",
        "print(waypts)\n",
        "wpts= [(int(x), int(y)) for x,y in waypts]\n",
        "print(wpts)\n",
        "path_direct = astar_direct_path(occupancy_grid, start, wpts)\n",
        "\n",
        "\n",
        "plot_occupancy_grid_with_path_and_waypoints(occupancy_grid, start, destination, path_direct, wpts)"
      ]
    }
  ],
  "metadata": {
    "colab": {
      "provenance": [],
      "gpuType": "T4",
      "include_colab_link": true
    },
    "kernelspec": {
      "display_name": "Python 3",
      "name": "python3"
    },
    "language_info": {
      "name": "python"
    },
    "accelerator": "GPU"
  },
  "nbformat": 4,
  "nbformat_minor": 0
}